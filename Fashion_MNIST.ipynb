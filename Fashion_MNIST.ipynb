{
 "cells": [
  {
   "cell_type": "markdown",
   "metadata": {
    "id": "uMsXK4U0L5J_"
   },
   "source": [
    "# **Fashion MNIST**"
   ]
  },
  {
   "cell_type": "markdown",
   "metadata": {
    "id": "hqMTF7AqMoN1"
   },
   "source": [
    "### Importing some of the commonly used libraries"
   ]
  },
  {
   "cell_type": "code",
   "execution_count": 1,
   "metadata": {
    "id": "Rjg0SRO9CDRH"
   },
   "outputs": [],
   "source": [
    "import numpy as np\n",
    "import pandas as pd\n",
    "import seaborn as sns\n",
    "import matplotlib.pyplot as plt\n",
    "from matplotlib import pyplot\n",
    "%matplotlib inline"
   ]
  },
  {
   "cell_type": "markdown",
   "metadata": {
    "id": "W71K-g2mNrUA"
   },
   "source": [
    "## Getting the Data\n",
    "\n",
    "The data consists of images of things as follows:\n",
    "\n",
    "> **Label**\t  **Description**\n",
    "\n",
    "\n",
    "\n",
    "0.   T-shirt/top\n",
    "1.   Trouser\n",
    "2.   Pullover\n",
    "3.   Dress\n",
    "4.   Coat\n",
    "5.   Sandal\n",
    "6.   Shirt\n",
    "7.   Sneaker\n",
    "8.   Bag\n",
    "9.   Ankle boot"
   ]
  },
  {
   "cell_type": "code",
   "execution_count": 3,
   "metadata": {
    "id": "gtcDCFgJCDcp"
   },
   "outputs": [],
   "source": [
    "#training Data\n",
    "df_train = pd.read_csv('fashion-mnist_train.csv')\n",
    "#test data \n",
    "df_test = pd.read_csv('fashion-mnist_test.csv')"
   ]
  },
  {
   "cell_type": "markdown",
   "metadata": {
    "id": "y3VuEtbmP3yV"
   },
   "source": [
    "Taking a look into the data"
   ]
  },
  {
   "cell_type": "code",
   "execution_count": 4,
   "metadata": {
    "colab": {
     "base_uri": "https://localhost:8080/",
     "height": 246
    },
    "id": "xEFjkTCMPzu8",
    "outputId": "e4d47b3c-298c-43a8-c281-056cbf7e2e9c"
   },
   "outputs": [
    {
     "data": {
      "text/html": [
       "<div>\n",
       "<style scoped>\n",
       "    .dataframe tbody tr th:only-of-type {\n",
       "        vertical-align: middle;\n",
       "    }\n",
       "\n",
       "    .dataframe tbody tr th {\n",
       "        vertical-align: top;\n",
       "    }\n",
       "\n",
       "    .dataframe thead th {\n",
       "        text-align: right;\n",
       "    }\n",
       "</style>\n",
       "<table border=\"1\" class=\"dataframe\">\n",
       "  <thead>\n",
       "    <tr style=\"text-align: right;\">\n",
       "      <th></th>\n",
       "      <th>label</th>\n",
       "      <th>pixel1</th>\n",
       "      <th>pixel2</th>\n",
       "      <th>pixel3</th>\n",
       "      <th>pixel4</th>\n",
       "      <th>pixel5</th>\n",
       "      <th>pixel6</th>\n",
       "      <th>pixel7</th>\n",
       "      <th>pixel8</th>\n",
       "      <th>pixel9</th>\n",
       "      <th>pixel10</th>\n",
       "      <th>pixel11</th>\n",
       "      <th>pixel12</th>\n",
       "      <th>pixel13</th>\n",
       "      <th>pixel14</th>\n",
       "      <th>pixel15</th>\n",
       "      <th>pixel16</th>\n",
       "      <th>pixel17</th>\n",
       "      <th>pixel18</th>\n",
       "      <th>pixel19</th>\n",
       "      <th>pixel20</th>\n",
       "      <th>pixel21</th>\n",
       "      <th>pixel22</th>\n",
       "      <th>pixel23</th>\n",
       "      <th>pixel24</th>\n",
       "      <th>pixel25</th>\n",
       "      <th>pixel26</th>\n",
       "      <th>pixel27</th>\n",
       "      <th>pixel28</th>\n",
       "      <th>pixel29</th>\n",
       "      <th>pixel30</th>\n",
       "      <th>pixel31</th>\n",
       "      <th>pixel32</th>\n",
       "      <th>pixel33</th>\n",
       "      <th>pixel34</th>\n",
       "      <th>pixel35</th>\n",
       "      <th>pixel36</th>\n",
       "      <th>pixel37</th>\n",
       "      <th>pixel38</th>\n",
       "      <th>pixel39</th>\n",
       "      <th>...</th>\n",
       "      <th>pixel745</th>\n",
       "      <th>pixel746</th>\n",
       "      <th>pixel747</th>\n",
       "      <th>pixel748</th>\n",
       "      <th>pixel749</th>\n",
       "      <th>pixel750</th>\n",
       "      <th>pixel751</th>\n",
       "      <th>pixel752</th>\n",
       "      <th>pixel753</th>\n",
       "      <th>pixel754</th>\n",
       "      <th>pixel755</th>\n",
       "      <th>pixel756</th>\n",
       "      <th>pixel757</th>\n",
       "      <th>pixel758</th>\n",
       "      <th>pixel759</th>\n",
       "      <th>pixel760</th>\n",
       "      <th>pixel761</th>\n",
       "      <th>pixel762</th>\n",
       "      <th>pixel763</th>\n",
       "      <th>pixel764</th>\n",
       "      <th>pixel765</th>\n",
       "      <th>pixel766</th>\n",
       "      <th>pixel767</th>\n",
       "      <th>pixel768</th>\n",
       "      <th>pixel769</th>\n",
       "      <th>pixel770</th>\n",
       "      <th>pixel771</th>\n",
       "      <th>pixel772</th>\n",
       "      <th>pixel773</th>\n",
       "      <th>pixel774</th>\n",
       "      <th>pixel775</th>\n",
       "      <th>pixel776</th>\n",
       "      <th>pixel777</th>\n",
       "      <th>pixel778</th>\n",
       "      <th>pixel779</th>\n",
       "      <th>pixel780</th>\n",
       "      <th>pixel781</th>\n",
       "      <th>pixel782</th>\n",
       "      <th>pixel783</th>\n",
       "      <th>pixel784</th>\n",
       "    </tr>\n",
       "  </thead>\n",
       "  <tbody>\n",
       "    <tr>\n",
       "      <th>0</th>\n",
       "      <td>2</td>\n",
       "      <td>0</td>\n",
       "      <td>0</td>\n",
       "      <td>0</td>\n",
       "      <td>0</td>\n",
       "      <td>0</td>\n",
       "      <td>0</td>\n",
       "      <td>0</td>\n",
       "      <td>0</td>\n",
       "      <td>0</td>\n",
       "      <td>0</td>\n",
       "      <td>0</td>\n",
       "      <td>0</td>\n",
       "      <td>0</td>\n",
       "      <td>0</td>\n",
       "      <td>0</td>\n",
       "      <td>0</td>\n",
       "      <td>0</td>\n",
       "      <td>0</td>\n",
       "      <td>0</td>\n",
       "      <td>0</td>\n",
       "      <td>0</td>\n",
       "      <td>0</td>\n",
       "      <td>0</td>\n",
       "      <td>0</td>\n",
       "      <td>0</td>\n",
       "      <td>0</td>\n",
       "      <td>0</td>\n",
       "      <td>0</td>\n",
       "      <td>0</td>\n",
       "      <td>0</td>\n",
       "      <td>0</td>\n",
       "      <td>0</td>\n",
       "      <td>0</td>\n",
       "      <td>0</td>\n",
       "      <td>0</td>\n",
       "      <td>0</td>\n",
       "      <td>0</td>\n",
       "      <td>0</td>\n",
       "      <td>0</td>\n",
       "      <td>...</td>\n",
       "      <td>0</td>\n",
       "      <td>0</td>\n",
       "      <td>0</td>\n",
       "      <td>0</td>\n",
       "      <td>0</td>\n",
       "      <td>0</td>\n",
       "      <td>0</td>\n",
       "      <td>0</td>\n",
       "      <td>0</td>\n",
       "      <td>0</td>\n",
       "      <td>0</td>\n",
       "      <td>0</td>\n",
       "      <td>0</td>\n",
       "      <td>0</td>\n",
       "      <td>0</td>\n",
       "      <td>0</td>\n",
       "      <td>0</td>\n",
       "      <td>0</td>\n",
       "      <td>0</td>\n",
       "      <td>0</td>\n",
       "      <td>0</td>\n",
       "      <td>0</td>\n",
       "      <td>0</td>\n",
       "      <td>0</td>\n",
       "      <td>0</td>\n",
       "      <td>0</td>\n",
       "      <td>0</td>\n",
       "      <td>0</td>\n",
       "      <td>0</td>\n",
       "      <td>0</td>\n",
       "      <td>0</td>\n",
       "      <td>0</td>\n",
       "      <td>0</td>\n",
       "      <td>0</td>\n",
       "      <td>0</td>\n",
       "      <td>0</td>\n",
       "      <td>0</td>\n",
       "      <td>0</td>\n",
       "      <td>0</td>\n",
       "      <td>0</td>\n",
       "    </tr>\n",
       "    <tr>\n",
       "      <th>1</th>\n",
       "      <td>9</td>\n",
       "      <td>0</td>\n",
       "      <td>0</td>\n",
       "      <td>0</td>\n",
       "      <td>0</td>\n",
       "      <td>0</td>\n",
       "      <td>0</td>\n",
       "      <td>0</td>\n",
       "      <td>0</td>\n",
       "      <td>0</td>\n",
       "      <td>0</td>\n",
       "      <td>0</td>\n",
       "      <td>0</td>\n",
       "      <td>0</td>\n",
       "      <td>0</td>\n",
       "      <td>0</td>\n",
       "      <td>0</td>\n",
       "      <td>0</td>\n",
       "      <td>0</td>\n",
       "      <td>0</td>\n",
       "      <td>0</td>\n",
       "      <td>0</td>\n",
       "      <td>0</td>\n",
       "      <td>0</td>\n",
       "      <td>0</td>\n",
       "      <td>0</td>\n",
       "      <td>0</td>\n",
       "      <td>0</td>\n",
       "      <td>0</td>\n",
       "      <td>0</td>\n",
       "      <td>0</td>\n",
       "      <td>0</td>\n",
       "      <td>0</td>\n",
       "      <td>0</td>\n",
       "      <td>0</td>\n",
       "      <td>0</td>\n",
       "      <td>0</td>\n",
       "      <td>0</td>\n",
       "      <td>0</td>\n",
       "      <td>0</td>\n",
       "      <td>...</td>\n",
       "      <td>0</td>\n",
       "      <td>0</td>\n",
       "      <td>0</td>\n",
       "      <td>0</td>\n",
       "      <td>0</td>\n",
       "      <td>0</td>\n",
       "      <td>0</td>\n",
       "      <td>0</td>\n",
       "      <td>0</td>\n",
       "      <td>0</td>\n",
       "      <td>0</td>\n",
       "      <td>0</td>\n",
       "      <td>0</td>\n",
       "      <td>0</td>\n",
       "      <td>0</td>\n",
       "      <td>0</td>\n",
       "      <td>0</td>\n",
       "      <td>0</td>\n",
       "      <td>0</td>\n",
       "      <td>0</td>\n",
       "      <td>0</td>\n",
       "      <td>0</td>\n",
       "      <td>0</td>\n",
       "      <td>0</td>\n",
       "      <td>0</td>\n",
       "      <td>0</td>\n",
       "      <td>0</td>\n",
       "      <td>0</td>\n",
       "      <td>0</td>\n",
       "      <td>0</td>\n",
       "      <td>0</td>\n",
       "      <td>0</td>\n",
       "      <td>0</td>\n",
       "      <td>0</td>\n",
       "      <td>0</td>\n",
       "      <td>0</td>\n",
       "      <td>0</td>\n",
       "      <td>0</td>\n",
       "      <td>0</td>\n",
       "      <td>0</td>\n",
       "    </tr>\n",
       "    <tr>\n",
       "      <th>2</th>\n",
       "      <td>6</td>\n",
       "      <td>0</td>\n",
       "      <td>0</td>\n",
       "      <td>0</td>\n",
       "      <td>0</td>\n",
       "      <td>0</td>\n",
       "      <td>0</td>\n",
       "      <td>0</td>\n",
       "      <td>5</td>\n",
       "      <td>0</td>\n",
       "      <td>0</td>\n",
       "      <td>0</td>\n",
       "      <td>105</td>\n",
       "      <td>92</td>\n",
       "      <td>101</td>\n",
       "      <td>107</td>\n",
       "      <td>100</td>\n",
       "      <td>132</td>\n",
       "      <td>0</td>\n",
       "      <td>0</td>\n",
       "      <td>2</td>\n",
       "      <td>4</td>\n",
       "      <td>0</td>\n",
       "      <td>1</td>\n",
       "      <td>0</td>\n",
       "      <td>0</td>\n",
       "      <td>0</td>\n",
       "      <td>0</td>\n",
       "      <td>0</td>\n",
       "      <td>0</td>\n",
       "      <td>0</td>\n",
       "      <td>0</td>\n",
       "      <td>0</td>\n",
       "      <td>0</td>\n",
       "      <td>0</td>\n",
       "      <td>0</td>\n",
       "      <td>0</td>\n",
       "      <td>0</td>\n",
       "      <td>0</td>\n",
       "      <td>150</td>\n",
       "      <td>...</td>\n",
       "      <td>211</td>\n",
       "      <td>220</td>\n",
       "      <td>214</td>\n",
       "      <td>74</td>\n",
       "      <td>0</td>\n",
       "      <td>255</td>\n",
       "      <td>222</td>\n",
       "      <td>128</td>\n",
       "      <td>0</td>\n",
       "      <td>0</td>\n",
       "      <td>0</td>\n",
       "      <td>0</td>\n",
       "      <td>0</td>\n",
       "      <td>0</td>\n",
       "      <td>0</td>\n",
       "      <td>0</td>\n",
       "      <td>0</td>\n",
       "      <td>44</td>\n",
       "      <td>12</td>\n",
       "      <td>0</td>\n",
       "      <td>0</td>\n",
       "      <td>40</td>\n",
       "      <td>134</td>\n",
       "      <td>162</td>\n",
       "      <td>191</td>\n",
       "      <td>214</td>\n",
       "      <td>163</td>\n",
       "      <td>146</td>\n",
       "      <td>165</td>\n",
       "      <td>79</td>\n",
       "      <td>0</td>\n",
       "      <td>0</td>\n",
       "      <td>0</td>\n",
       "      <td>30</td>\n",
       "      <td>43</td>\n",
       "      <td>0</td>\n",
       "      <td>0</td>\n",
       "      <td>0</td>\n",
       "      <td>0</td>\n",
       "      <td>0</td>\n",
       "    </tr>\n",
       "    <tr>\n",
       "      <th>3</th>\n",
       "      <td>0</td>\n",
       "      <td>0</td>\n",
       "      <td>0</td>\n",
       "      <td>0</td>\n",
       "      <td>1</td>\n",
       "      <td>2</td>\n",
       "      <td>0</td>\n",
       "      <td>0</td>\n",
       "      <td>0</td>\n",
       "      <td>0</td>\n",
       "      <td>0</td>\n",
       "      <td>114</td>\n",
       "      <td>183</td>\n",
       "      <td>112</td>\n",
       "      <td>55</td>\n",
       "      <td>23</td>\n",
       "      <td>72</td>\n",
       "      <td>102</td>\n",
       "      <td>165</td>\n",
       "      <td>160</td>\n",
       "      <td>28</td>\n",
       "      <td>0</td>\n",
       "      <td>0</td>\n",
       "      <td>0</td>\n",
       "      <td>1</td>\n",
       "      <td>0</td>\n",
       "      <td>0</td>\n",
       "      <td>0</td>\n",
       "      <td>0</td>\n",
       "      <td>0</td>\n",
       "      <td>0</td>\n",
       "      <td>0</td>\n",
       "      <td>0</td>\n",
       "      <td>1</td>\n",
       "      <td>0</td>\n",
       "      <td>0</td>\n",
       "      <td>24</td>\n",
       "      <td>188</td>\n",
       "      <td>163</td>\n",
       "      <td>93</td>\n",
       "      <td>...</td>\n",
       "      <td>171</td>\n",
       "      <td>249</td>\n",
       "      <td>207</td>\n",
       "      <td>197</td>\n",
       "      <td>202</td>\n",
       "      <td>45</td>\n",
       "      <td>0</td>\n",
       "      <td>3</td>\n",
       "      <td>0</td>\n",
       "      <td>0</td>\n",
       "      <td>0</td>\n",
       "      <td>0</td>\n",
       "      <td>0</td>\n",
       "      <td>0</td>\n",
       "      <td>0</td>\n",
       "      <td>0</td>\n",
       "      <td>0</td>\n",
       "      <td>0</td>\n",
       "      <td>1</td>\n",
       "      <td>0</td>\n",
       "      <td>0</td>\n",
       "      <td>0</td>\n",
       "      <td>22</td>\n",
       "      <td>21</td>\n",
       "      <td>25</td>\n",
       "      <td>69</td>\n",
       "      <td>52</td>\n",
       "      <td>45</td>\n",
       "      <td>74</td>\n",
       "      <td>39</td>\n",
       "      <td>3</td>\n",
       "      <td>0</td>\n",
       "      <td>0</td>\n",
       "      <td>0</td>\n",
       "      <td>0</td>\n",
       "      <td>1</td>\n",
       "      <td>0</td>\n",
       "      <td>0</td>\n",
       "      <td>0</td>\n",
       "      <td>0</td>\n",
       "    </tr>\n",
       "    <tr>\n",
       "      <th>4</th>\n",
       "      <td>3</td>\n",
       "      <td>0</td>\n",
       "      <td>0</td>\n",
       "      <td>0</td>\n",
       "      <td>0</td>\n",
       "      <td>0</td>\n",
       "      <td>0</td>\n",
       "      <td>0</td>\n",
       "      <td>0</td>\n",
       "      <td>0</td>\n",
       "      <td>0</td>\n",
       "      <td>0</td>\n",
       "      <td>0</td>\n",
       "      <td>46</td>\n",
       "      <td>0</td>\n",
       "      <td>21</td>\n",
       "      <td>68</td>\n",
       "      <td>0</td>\n",
       "      <td>0</td>\n",
       "      <td>0</td>\n",
       "      <td>0</td>\n",
       "      <td>0</td>\n",
       "      <td>0</td>\n",
       "      <td>0</td>\n",
       "      <td>0</td>\n",
       "      <td>0</td>\n",
       "      <td>0</td>\n",
       "      <td>0</td>\n",
       "      <td>0</td>\n",
       "      <td>0</td>\n",
       "      <td>0</td>\n",
       "      <td>0</td>\n",
       "      <td>0</td>\n",
       "      <td>0</td>\n",
       "      <td>0</td>\n",
       "      <td>0</td>\n",
       "      <td>0</td>\n",
       "      <td>25</td>\n",
       "      <td>187</td>\n",
       "      <td>189</td>\n",
       "      <td>...</td>\n",
       "      <td>230</td>\n",
       "      <td>237</td>\n",
       "      <td>229</td>\n",
       "      <td>0</td>\n",
       "      <td>0</td>\n",
       "      <td>1</td>\n",
       "      <td>0</td>\n",
       "      <td>0</td>\n",
       "      <td>0</td>\n",
       "      <td>0</td>\n",
       "      <td>0</td>\n",
       "      <td>0</td>\n",
       "      <td>0</td>\n",
       "      <td>0</td>\n",
       "      <td>0</td>\n",
       "      <td>0</td>\n",
       "      <td>0</td>\n",
       "      <td>0</td>\n",
       "      <td>0</td>\n",
       "      <td>0</td>\n",
       "      <td>0</td>\n",
       "      <td>68</td>\n",
       "      <td>116</td>\n",
       "      <td>112</td>\n",
       "      <td>136</td>\n",
       "      <td>147</td>\n",
       "      <td>144</td>\n",
       "      <td>121</td>\n",
       "      <td>102</td>\n",
       "      <td>63</td>\n",
       "      <td>0</td>\n",
       "      <td>0</td>\n",
       "      <td>0</td>\n",
       "      <td>0</td>\n",
       "      <td>0</td>\n",
       "      <td>0</td>\n",
       "      <td>0</td>\n",
       "      <td>0</td>\n",
       "      <td>0</td>\n",
       "      <td>0</td>\n",
       "    </tr>\n",
       "  </tbody>\n",
       "</table>\n",
       "<p>5 rows × 785 columns</p>\n",
       "</div>"
      ],
      "text/plain": [
       "   label  pixel1  pixel2  pixel3  ...  pixel781  pixel782  pixel783  pixel784\n",
       "0      2       0       0       0  ...         0         0         0         0\n",
       "1      9       0       0       0  ...         0         0         0         0\n",
       "2      6       0       0       0  ...         0         0         0         0\n",
       "3      0       0       0       0  ...         0         0         0         0\n",
       "4      3       0       0       0  ...         0         0         0         0\n",
       "\n",
       "[5 rows x 785 columns]"
      ]
     },
     "execution_count": 4,
     "metadata": {
      "tags": []
     },
     "output_type": "execute_result"
    }
   ],
   "source": [
    "df_train.head()"
   ]
  },
  {
   "cell_type": "markdown",
   "metadata": {
    "id": "Sns1ShM1QYzn"
   },
   "source": [
    "### Dividing the data into train, test and cross-validation datasets"
   ]
  },
  {
   "cell_type": "code",
   "execution_count": 5,
   "metadata": {
    "id": "GHRQYGUhCnNa"
   },
   "outputs": [],
   "source": [
    "from sklearn.model_selection import train_test_split"
   ]
  },
  {
   "cell_type": "code",
   "execution_count": 6,
   "metadata": {
    "id": "KNVjuHSwCnXu"
   },
   "outputs": [],
   "source": [
    "#creating an array for all the columns in the dataset\n",
    "cl = []\n",
    "for i in range(1,785):\n",
    "  string = 'pixel'\n",
    "  string = string + str(i)\n",
    "  cl.append(string)"
   ]
  },
  {
   "cell_type": "code",
   "execution_count": 7,
   "metadata": {
    "id": "Em0Zi_DJCncP"
   },
   "outputs": [],
   "source": [
    "X = df_train[cl]\n",
    "y = df_train['label']\n",
    "X_test = df_test[cl]\n",
    "y_test = df_test['label']"
   ]
  },
  {
   "cell_type": "code",
   "execution_count": 8,
   "metadata": {
    "id": "3rgq3gFlR7Gs"
   },
   "outputs": [],
   "source": [
    "X_train,X_cv,y_train,y_cv = train_test_split(X,y,test_size=0.2,random_state=101)"
   ]
  },
  {
   "cell_type": "code",
   "execution_count": 9,
   "metadata": {
    "colab": {
     "base_uri": "https://localhost:8080/"
    },
    "id": "UFLLn5AdUxRN",
    "outputId": "fefcb754-adfa-4435-ff5f-a654972f0bf1"
   },
   "outputs": [
    {
     "name": "stdout",
     "output_type": "stream",
     "text": [
      "Train Data:  48000\n",
      "Cross-validation Data:  12000\n",
      "Test Data:  10000\n"
     ]
    }
   ],
   "source": [
    "#Data Size\n",
    "print('Train Data: ',len(X_train))\n",
    "print('Cross-validation Data: ',len(X_cv))\n",
    "print('Test Data: ',len(X_test))"
   ]
  },
  {
   "cell_type": "markdown",
   "metadata": {
    "id": "B8r2UJuLUGjy"
   },
   "source": [
    "### Visualizing the data"
   ]
  },
  {
   "cell_type": "code",
   "execution_count": 11,
   "metadata": {
    "colab": {
     "base_uri": "https://localhost:8080/",
     "height": 267
    },
    "id": "S_rxIUbGUMqe",
    "outputId": "f77661b9-df19-4758-bfe6-8445c726046e"
   },
   "outputs": [
    {
     "data": {
      "image/png": "[encoded data removed]",
      "text/plain": [
       "<Figure size 432x288 with 9 Axes>"
      ]
     },
     "metadata": {
      "needs_background": "light",
      "tags": []
     },
     "output_type": "display_data"
    }
   ],
   "source": [
    "images = []\n",
    "for i in range(9):\n",
    "  arr = np.array(X_train.iloc[i])\n",
    "  images.append(arr.reshape((28,28)))\n",
    "\n",
    "for i in range(9):\n",
    "    plt.subplot(331+i)\n",
    "    plt.imshow(images[i],cmap=plt.get_cmap('gray')) \n",
    "plt.show()"
   ]
  },
  {
   "cell_type": "markdown",
   "metadata": {
    "id": "kIjUZX41T88E"
   },
   "source": [
    "## Feature Scaling"
   ]
  },
  {
   "cell_type": "code",
   "execution_count": 12,
   "metadata": {
    "id": "ree3nmwjCn0b"
   },
   "outputs": [],
   "source": [
    "#Feature Scaling\n",
    "from sklearn.preprocessing import MinMaxScaler\n",
    "scaler = MinMaxScaler()\n",
    "scaler.fit(X_train)\n",
    "X_train = scaler.transform(X_train)\n",
    "X_test = scaler.transform(X_test)\n",
    "X_cv = scaler.transform(X_cv)"
   ]
  },
  {
   "cell_type": "markdown",
   "metadata": {
    "id": "IzQZPrOxWzFa"
   },
   "source": [
    "## Training the model"
   ]
  },
  {
   "cell_type": "code",
   "execution_count": 13,
   "metadata": {
    "id": "-eodZ3L4CoC_"
   },
   "outputs": [],
   "source": [
    "#importing the libraries to be used\n",
    "from tensorflow.keras.models import Sequential\n",
    "from tensorflow.keras.layers import Dense,Dropout,Flatten\n",
    "from tensorflow.keras.callbacks import EarlyStopping"
   ]
  },
  {
   "cell_type": "code",
   "execution_count": 14,
   "metadata": {
    "id": "zBQALzCmynKO"
   },
   "outputs": [],
   "source": [
    "#Using earlystopping in our neural network to avoid overfitting\n",
    "earlystop = EarlyStopping(monitor='val_loss',mode='min',verbose=1,patience=25)"
   ]
  },
  {
   "cell_type": "code",
   "execution_count": 38,
   "metadata": {
    "colab": {
     "base_uri": "https://localhost:8080/"
    },
    "id": "0J9gLz1SCoIJ",
    "outputId": "8ca0f961-49b1-4c33-e95e-878185a3a0bf"
   },
   "outputs": [
    {
     "name": "stdout",
     "output_type": "stream",
     "text": [
      "Epoch 1/100\n",
      "1500/1500 [==============================] - 13s 8ms/step - loss: 0.8450 - accuracy: 0.7011 - val_loss: 0.4455 - val_accuracy: 0.8407\n",
      "Epoch 2/100\n",
      "1500/1500 [==============================] - 12s 8ms/step - loss: 0.4824 - accuracy: 0.8271 - val_loss: 0.3759 - val_accuracy: 0.8614\n",
      "Epoch 3/100\n",
      "1500/1500 [==============================] - 12s 8ms/step - loss: 0.4314 - accuracy: 0.8466 - val_loss: 0.3630 - val_accuracy: 0.8698\n",
      "Epoch 4/100\n",
      "1500/1500 [==============================] - 12s 8ms/step - loss: 0.3994 - accuracy: 0.8555 - val_loss: 0.3909 - val_accuracy: 0.8583\n",
      "Epoch 5/100\n",
      "1500/1500 [==============================] - 12s 8ms/step - loss: 0.3890 - accuracy: 0.8591 - val_loss: 0.3609 - val_accuracy: 0.8738\n",
      "Epoch 6/100\n",
      "1500/1500 [==============================] - 12s 8ms/step - loss: 0.3649 - accuracy: 0.8685 - val_loss: 0.3477 - val_accuracy: 0.8774\n",
      "Epoch 7/100\n",
      "1500/1500 [==============================] - 12s 8ms/step - loss: 0.3556 - accuracy: 0.8704 - val_loss: 0.3367 - val_accuracy: 0.8806\n",
      "Epoch 8/100\n",
      "1500/1500 [==============================] - 12s 8ms/step - loss: 0.3454 - accuracy: 0.8762 - val_loss: 0.3259 - val_accuracy: 0.8848\n",
      "Epoch 9/100\n",
      "1500/1500 [==============================] - 12s 8ms/step - loss: 0.3355 - accuracy: 0.8775 - val_loss: 0.3279 - val_accuracy: 0.8857\n",
      "Epoch 10/100\n",
      "1500/1500 [==============================] - 12s 8ms/step - loss: 0.3296 - accuracy: 0.8813 - val_loss: 0.3200 - val_accuracy: 0.8874\n",
      "Epoch 11/100\n",
      "1500/1500 [==============================] - 12s 8ms/step - loss: 0.3105 - accuracy: 0.8839 - val_loss: 0.3255 - val_accuracy: 0.8853\n",
      "Epoch 12/100\n",
      "1500/1500 [==============================] - 12s 8ms/step - loss: 0.3064 - accuracy: 0.8860 - val_loss: 0.3188 - val_accuracy: 0.8876\n",
      "Epoch 13/100\n",
      "1500/1500 [==============================] - 12s 8ms/step - loss: 0.3089 - accuracy: 0.8865 - val_loss: 0.3283 - val_accuracy: 0.8883\n",
      "Epoch 14/100\n",
      "1500/1500 [==============================] - 12s 8ms/step - loss: 0.2962 - accuracy: 0.8917 - val_loss: 0.3227 - val_accuracy: 0.8915\n",
      "Epoch 15/100\n",
      "1500/1500 [==============================] - 12s 8ms/step - loss: 0.2972 - accuracy: 0.8918 - val_loss: 0.3255 - val_accuracy: 0.8900\n",
      "Epoch 16/100\n",
      "1500/1500 [==============================] - 12s 8ms/step - loss: 0.2942 - accuracy: 0.8919 - val_loss: 0.3333 - val_accuracy: 0.8874\n",
      "Epoch 17/100\n",
      "1500/1500 [==============================] - 12s 8ms/step - loss: 0.2928 - accuracy: 0.8919 - val_loss: 0.3115 - val_accuracy: 0.8957\n",
      "Epoch 18/100\n",
      "1500/1500 [==============================] - 12s 8ms/step - loss: 0.2837 - accuracy: 0.8950 - val_loss: 0.3205 - val_accuracy: 0.8937\n",
      "Epoch 19/100\n",
      "1500/1500 [==============================] - 12s 8ms/step - loss: 0.2733 - accuracy: 0.8968 - val_loss: 0.3472 - val_accuracy: 0.8872\n",
      "Epoch 20/100\n",
      "1500/1500 [==============================] - 12s 8ms/step - loss: 0.2775 - accuracy: 0.8979 - val_loss: 0.3264 - val_accuracy: 0.8900\n",
      "Epoch 21/100\n",
      "1500/1500 [==============================] - 12s 8ms/step - loss: 0.2615 - accuracy: 0.9025 - val_loss: 0.3222 - val_accuracy: 0.8939\n",
      "Epoch 22/100\n",
      "1500/1500 [==============================] - 12s 8ms/step - loss: 0.2710 - accuracy: 0.9000 - val_loss: 0.3235 - val_accuracy: 0.8844\n",
      "Epoch 23/100\n",
      "1500/1500 [==============================] - 12s 8ms/step - loss: 0.2664 - accuracy: 0.9032 - val_loss: 0.3276 - val_accuracy: 0.8900\n",
      "Epoch 24/100\n",
      "1500/1500 [==============================] - 12s 8ms/step - loss: 0.2642 - accuracy: 0.9031 - val_loss: 0.3136 - val_accuracy: 0.8984\n",
      "Epoch 25/100\n",
      "1500/1500 [==============================] - 12s 8ms/step - loss: 0.2650 - accuracy: 0.9029 - val_loss: 0.3296 - val_accuracy: 0.8928\n",
      "Epoch 26/100\n",
      "1500/1500 [==============================] - 12s 8ms/step - loss: 0.2586 - accuracy: 0.9033 - val_loss: 0.3323 - val_accuracy: 0.8898\n",
      "Epoch 27/100\n",
      "1500/1500 [==============================] - 12s 8ms/step - loss: 0.2548 - accuracy: 0.9071 - val_loss: 0.3193 - val_accuracy: 0.8948\n",
      "Epoch 28/100\n",
      "1500/1500 [==============================] - 12s 8ms/step - loss: 0.2496 - accuracy: 0.9088 - val_loss: 0.3332 - val_accuracy: 0.8922\n",
      "Epoch 29/100\n",
      "1500/1500 [==============================] - 12s 8ms/step - loss: 0.2504 - accuracy: 0.9076 - val_loss: 0.3199 - val_accuracy: 0.8980\n",
      "Epoch 30/100\n",
      "1500/1500 [==============================] - 12s 8ms/step - loss: 0.2461 - accuracy: 0.9055 - val_loss: 0.3340 - val_accuracy: 0.8972\n",
      "Epoch 31/100\n",
      "1500/1500 [==============================] - 12s 8ms/step - loss: 0.2410 - accuracy: 0.9111 - val_loss: 0.3302 - val_accuracy: 0.8999\n",
      "Epoch 32/100\n",
      "1500/1500 [==============================] - 12s 8ms/step - loss: 0.2408 - accuracy: 0.9104 - val_loss: 0.3264 - val_accuracy: 0.8950\n",
      "Epoch 33/100\n",
      "1500/1500 [==============================] - 12s 8ms/step - loss: 0.2476 - accuracy: 0.9097 - val_loss: 0.3281 - val_accuracy: 0.8997\n",
      "Epoch 34/100\n",
      "1500/1500 [==============================] - 12s 8ms/step - loss: 0.2366 - accuracy: 0.9141 - val_loss: 0.3300 - val_accuracy: 0.8957\n",
      "Epoch 35/100\n",
      "1500/1500 [==============================] - 12s 8ms/step - loss: 0.2338 - accuracy: 0.9138 - val_loss: 0.3245 - val_accuracy: 0.8938\n",
      "Epoch 36/100\n",
      "1500/1500 [==============================] - 12s 8ms/step - loss: 0.2287 - accuracy: 0.9147 - val_loss: 0.3455 - val_accuracy: 0.8919\n",
      "Epoch 37/100\n",
      "1500/1500 [==============================] - 12s 8ms/step - loss: 0.2382 - accuracy: 0.9122 - val_loss: 0.3485 - val_accuracy: 0.8967\n",
      "Epoch 38/100\n",
      "1500/1500 [==============================] - 12s 8ms/step - loss: 0.2242 - accuracy: 0.9179 - val_loss: 0.3323 - val_accuracy: 0.9000\n",
      "Epoch 39/100\n",
      "1500/1500 [==============================] - 12s 8ms/step - loss: 0.2252 - accuracy: 0.9187 - val_loss: 0.3323 - val_accuracy: 0.8956\n",
      "Epoch 40/100\n",
      "1500/1500 [==============================] - 12s 8ms/step - loss: 0.2252 - accuracy: 0.9176 - val_loss: 0.3309 - val_accuracy: 0.8998\n",
      "Epoch 41/100\n",
      "1500/1500 [==============================] - 12s 8ms/step - loss: 0.2266 - accuracy: 0.9175 - val_loss: 0.3458 - val_accuracy: 0.8997\n",
      "Epoch 42/100\n",
      "1500/1500 [==============================] - 12s 8ms/step - loss: 0.2175 - accuracy: 0.9197 - val_loss: 0.3423 - val_accuracy: 0.9006\n",
      "Epoch 00042: early stopping\n"
     ]
    }
   ],
   "source": [
    "model = Sequential()\n",
    "model.add(Flatten())\n",
    "model.add(Dense(784,activation='relu'))\n",
    "model.add(Dropout(0.25))\n",
    "model.add(Dense(196,activation='relu'))\n",
    "model.add(Dropout(0.25))\n",
    "model.add(Dense(49,activation='relu'))\n",
    "model.add(Dropout(0.25))\n",
    "model.add(Dense(10,activation='softmax'))\n",
    "\n",
    "model.compile(optimizer='adam',loss = 'sparse_categorical_crossentropy' , metrics = ['accuracy'])\n",
    "history = model.fit(X_train,y_train,epochs=100,validation_data=(X_cv,y_cv),verbose=1,callbacks=[earlystop])"
   ]
  },
  {
   "cell_type": "markdown",
   "metadata": {
    "id": "JDwqKDDIY6YI"
   },
   "source": [
    "### Analyising the results"
   ]
  },
  {
   "cell_type": "code",
   "execution_count": 39,
   "metadata": {
    "id": "VAUKfizcCoOQ"
   },
   "outputs": [],
   "source": [
    "loss_df = pd.DataFrame(model.history.history)"
   ]
  },
  {
   "cell_type": "code",
   "execution_count": 40,
   "metadata": {
    "colab": {
     "base_uri": "https://localhost:8080/",
     "height": 282
    },
    "id": "a70TxlRzCoT_",
    "outputId": "33d011a9-810d-4082-f1a0-0d732a43b088"
   },
   "outputs": [
    {
     "data": {
      "text/plain": [
       "<matplotlib.axes._subplots.AxesSubplot at 0x7fc8c1b1ef50>"
      ]
     },
     "execution_count": 40,
     "metadata": {
      "tags": []
     },
     "output_type": "execute_result"
    },
    {
     "data": {
      "image/png": "[encoded data removed]",
      "text/plain": [
       "<Figure size 432x288 with 1 Axes>"
      ]
     },
     "metadata": {
      "needs_background": "light",
      "tags": []
     },
     "output_type": "display_data"
    }
   ],
   "source": [
    "loss_df.plot()"
   ]
  },
  {
   "cell_type": "code",
   "execution_count": 41,
   "metadata": {
    "colab": {
     "base_uri": "https://localhost:8080/",
     "height": 462
    },
    "id": "jSboYfgph3fx",
    "outputId": "5b6fc583-fcc6-4231-c322-f3727213133e"
   },
   "outputs": [
    {
     "data": {
      "text/plain": [
       "[<matplotlib.lines.Line2D at 0x7fc8c1483f90>]"
      ]
     },
     "execution_count": 41,
     "metadata": {
      "tags": []
     },
     "output_type": "execute_result"
    },
    {
     "data": {
      "image/png": "[encoded data removed]",
      "text/plain": [
       "<Figure size 864x504 with 2 Axes>"
      ]
     },
     "metadata": {
      "needs_background": "light",
      "tags": []
     },
     "output_type": "display_data"
    }
   ],
   "source": [
    "plt.figure(figsize=(12,7))\n",
    "plt.subplot(2,1,1)\n",
    "plt.title('Cross Entropy Loss')\n",
    "plt.plot(history.history['loss'],color='blue',label='train')\n",
    "plt.plot(history.history['val_loss'],color='orange',label='test')\n",
    "                \n",
    "plt.subplot(2,1,2)\n",
    "plt.title('Classification Accuracy')\n",
    "plt.plot(history.history['accuracy'],color='blue',label='train')\n",
    "plt.plot(history.history['val_accuracy'],color='orange',label='test')"
   ]
  },
  {
   "cell_type": "code",
   "execution_count": 42,
   "metadata": {
    "colab": {
     "base_uri": "https://localhost:8080/"
    },
    "id": "_9p2qE1fiZVE",
    "outputId": "bf601539-fef8-4df2-e251-15129d5b75c2"
   },
   "outputs": [
    {
     "name": "stdout",
     "output_type": "stream",
     "text": [
      "375/375 [==============================] - 1s 3ms/step - loss: 0.3423 - accuracy: 0.9006\n",
      "0.34228524565696716\n",
      "0.9005833268165588\n"
     ]
    }
   ],
   "source": [
    "val_loss,val_accuracy = model.evaluate(X_cv,y_cv)\n",
    "print(val_loss)\n",
    "print(val_accuracy)"
   ]
  },
  {
   "cell_type": "markdown",
   "metadata": {
    "id": "r9aWqdxcibIw"
   },
   "source": [
    "## Evaluating the model"
   ]
  },
  {
   "cell_type": "code",
   "execution_count": 43,
   "metadata": {
    "colab": {
     "base_uri": "https://localhost:8080/"
    },
    "id": "dNvemaFPFOk1",
    "outputId": "9b6808fb-4556-416e-84e1-a109670ec173"
   },
   "outputs": [
    {
     "name": "stdout",
     "output_type": "stream",
     "text": [
      "313/313 [==============================] - 1s 3ms/step - loss: 0.3355 - accuracy: 0.8970\n",
      "0.335506409406662\n",
      "0.8970000147819519\n"
     ]
    }
   ],
   "source": [
    "val_loss,val_accuracy = model.evaluate(X_test,y_test)\n",
    "print(val_loss)\n",
    "print(val_accuracy)"
   ]
  },
  {
   "cell_type": "markdown",
   "metadata": {
    "id": "9h727yJ4i4Ua"
   },
   "source": [
    "### Saving the model"
   ]
  },
  {
   "cell_type": "code",
   "execution_count": 44,
   "metadata": {
    "id": "8ccT3XKwvzwv"
   },
   "outputs": [],
   "source": [
    "model.save('fashion_mnist_model.h5')"
   ]
  },
  {
   "cell_type": "markdown",
   "metadata": {
    "id": "PVyZKcnEi9v7"
   },
   "source": [
    "Trying the model "
   ]
  },
  {
   "cell_type": "code",
   "execution_count": 92,
   "metadata": {
    "id": "5PflEI7JADL1"
   },
   "outputs": [],
   "source": [
    "from keras.preprocessing.image import load_img\n",
    "from keras.preprocessing.image import img_to_array\n",
    "from matplotlib import image\n",
    "from matplotlib import pyplot"
   ]
  },
  {
   "cell_type": "code",
   "execution_count": 53,
   "metadata": {
    "colab": {
     "base_uri": "https://localhost:8080/",
     "height": 322
    },
    "id": "Fv5pxdQk1BrG",
    "outputId": "f3d95181-6ee6-457e-fb80-7e0e823d3694"
   },
   "outputs": [
    {
     "name": "stdout",
     "output_type": "stream",
     "text": [
      "float32\n",
      "(512, 512, 4)\n"
     ]
    },
    {
     "data": {
      "text/plain": [
       "<matplotlib.image.AxesImage at 0x7fc8be1d5710>"
      ]
     },
     "execution_count": 53,
     "metadata": {
      "tags": []
     },
     "output_type": "execute_result"
    },
    {
     "data": {
      "image/png": "[encoded data removed]",
      "text/plain": [
       "<Figure size 432x288 with 1 Axes>"
      ]
     },
     "metadata": {
      "needs_background": "light",
      "tags": []
     },
     "output_type": "display_data"
    }
   ],
   "source": [
    "#the image to be classified\n",
    "image = image.imread('sample_image.png')\n",
    "# shape and type of the pixel array\n",
    "print(image.dtype)\n",
    "print(image.shape)\n",
    "pyplot.imshow(image)"
   ]
  },
  {
   "cell_type": "code",
   "execution_count": 55,
   "metadata": {
    "id": "kS-faJqYAJFZ"
   },
   "outputs": [],
   "source": [
    "#converting the image to array\n",
    "def load_image(filename):\n",
    "\timg = load_img(filename, color_mode='grayscale', target_size=(28, 28))\n",
    "\timg = img_to_array(img)\n",
    "\timg = img.reshape(1, 28, 28, 1)\n",
    "\timg = img.astype('float32')\n",
    "\t#img = img / 255.0\n",
    "\treturn img"
   ]
  },
  {
   "cell_type": "code",
   "execution_count": 56,
   "metadata": {
    "id": "BRduHDxqzh6u"
   },
   "outputs": [],
   "source": [
    "def image_pred():\n",
    "  img = load_image('sample_image.png')\n",
    "  img = img.reshape((1,784))\n",
    "  df_img = pd.DataFrame(img)\n",
    "  df_img.columns = [cl] \n",
    "  df_img = scaler.transform(df_img)\n",
    "  predict = np.argmax(model.predict(df_img),axis=-1)\n",
    "  return predict"
   ]
  },
  {
   "cell_type": "code",
   "execution_count": 57,
   "metadata": {
    "id": "lpDnUrqVv0Ww"
   },
   "outputs": [],
   "source": [
    "predict = image_pred()"
   ]
  },
  {
   "cell_type": "code",
   "execution_count": 58,
   "metadata": {
    "colab": {
     "base_uri": "https://localhost:8080/"
    },
    "id": "d-OussSG02jL",
    "outputId": "bdaeb0c3-ca1a-4c3a-f6a3-84687bbc0799"
   },
   "outputs": [
    {
     "name": "stdout",
     "output_type": "stream",
     "text": [
      "[5]\n"
     ]
    }
   ],
   "source": [
    "print(predict)"
   ]
  }
 ],
 "metadata": {
  "colab": {
   "name": "Untitled40.ipynb",
   "provenance": []
  },
  "kernelspec": {
   "display_name": "Python 3 (ipykernel)",
   "language": "python",
   "name": "python3"
  },
  "language_info": {
   "codemirror_mode": {
    "name": "ipython",
    "version": 3
   },
   "file_extension": ".py",
   "mimetype": "text/x-python",
   "name": "python",
   "nbconvert_exporter": "python",
   "pygments_lexer": "ipython3",
   "version": "3.9.7"
  }
 },
 "nbformat": 4,
 "nbformat_minor": 1
}
